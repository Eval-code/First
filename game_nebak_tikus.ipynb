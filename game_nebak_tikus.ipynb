{
  "nbformat": 4,
  "nbformat_minor": 0,
  "metadata": {
    "colab": {
      "provenance": [],
      "authorship_tag": "ABX9TyNOeRRWsWnJcgFcxoih6Wt5",
      "include_colab_link": true
    },
    "kernelspec": {
      "name": "python3",
      "display_name": "Python 3"
    },
    "language_info": {
      "name": "python"
    }
  },
  "cells": [
    {
      "cell_type": "markdown",
      "metadata": {
        "id": "view-in-github",
        "colab_type": "text"
      },
      "source": [
        "<a href=\"https://colab.research.google.com/github/Eval-code/First/blob/main/game_nebak_tikus.ipynb\" target=\"_parent\"><img src=\"https://colab.research.google.com/assets/colab-badge.svg\" alt=\"Open In Colab\"/></a>"
      ]
    },
    {
      "cell_type": "code",
      "source": [
        "import random\n",
        "\n",
        "posisi_tikus = random.randint(1, 5)\n",
        "\n",
        "name_game = \"TEBAK TIKUS\"\n",
        "print(\"-----------\")\n",
        "print(f'''{name_game}''')\n",
        "print(\"-----------\")\n",
        "\n",
        "nama_user = input(\"Masukan Nama Anda = \")\n",
        "print(f'''Selamat datang {nama_user}\n",
        "      ''')\n",
        "pilihan_user = input(f'''Apakah kamu siap bermain game {name_game} (y/n) = ''')\n",
        "if pilihan_user == \"y\":\n",
        "    print('''             ****************\n",
        "             **GAME DIMULAI**\n",
        "             ****************''')\n",
        "    pilihan_tikus = int(input(f'''OKE PILIH KOTAK DIBAWAH INI\n",
        "[1] [2] [3] [4] [5]\n",
        "TEBAK KOTAK NOMOR BERAPA SI TIKUS BERAPA = '''))\n",
        "    if pilihan_tikus == posisi_tikus:\n",
        "        print(f'''Selamat Anda Menang anda menebak kotak {pilihan_tikus}\n",
        "dan tikus tepat berapa di kotak {posisi_tikus}''')\n",
        "    else:\n",
        "        print(f'''Maaf Anda Kalah si tikus berada dikotak {posisi_tikus}''')\n",
        "else:\n",
        "    print(\"Game Selesai\")"
      ],
      "metadata": {
        "colab": {
          "base_uri": "https://localhost:8080/"
        },
        "id": "VDmS6MuaP20J",
        "outputId": "47353433-f99f-4166-851e-c05da81adf13"
      },
      "execution_count": 84,
      "outputs": [
        {
          "output_type": "stream",
          "name": "stdout",
          "text": [
            "-----------\n",
            "TEBAK TIKUS\n",
            "-----------\n",
            "Masukan Nama Anda = eval\n",
            "Selamat datang eval\n",
            "      \n",
            "Apakah kamu siap bermain game TEBAK TIKUS (y/n) = y\n",
            "             ****************\n",
            "             **GAME DIMULAI**\n",
            "             ****************\n",
            "OKE PILIH KOTAK DIBAWAH INI\n",
            "[1] [2] [3] [4] [5]\n",
            "TEBAK KOTAK NOMOR BERAPA SI TIKUS BERAPA = 5\n",
            "Maaf Anda Kalah si tikus berada dikotak 2\n"
          ]
        }
      ]
    }
  ]
}