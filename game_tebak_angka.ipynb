{
  "nbformat": 4,
  "nbformat_minor": 0,
  "metadata": {
    "colab": {
      "provenance": [],
      "authorship_tag": "ABX9TyMjFqnt6R63oT/QjwYCe4U4",
      "include_colab_link": true
    },
    "kernelspec": {
      "name": "python3",
      "display_name": "Python 3"
    },
    "language_info": {
      "name": "python"
    }
  },
  "cells": [
    {
      "cell_type": "markdown",
      "metadata": {
        "id": "view-in-github",
        "colab_type": "text"
      },
      "source": [
        "<a href=\"https://colab.research.google.com/github/Eval-code/First/blob/main/game_tebak_angka.ipynb\" target=\"_parent\"><img src=\"https://colab.research.google.com/assets/colab-badge.svg\" alt=\"Open In Colab\"/></a>"
      ]
    },
    {
      "cell_type": "code",
      "source": [
        "import random\n",
        "\n",
        "nomor_acak = random.randint(1, 100)\n",
        "nama_game = \"TEBAK ANGKA\"\n",
        "print(\"*******************\")\n",
        "print(f'''****{nama_game}****''')\n",
        "print(\"*******************\")\n",
        "nama_user = input(\"Masukkan nama anda \")\n",
        "print(f'''Hallo {nama_user}''')\n",
        "jawaban_user = input(\"Apakah anda siap bermain tebak angka? (y/n) = \")\n",
        "\n",
        "if jawaban_user == \"y\":\n",
        "    print(\"Oke kita mulai bermain tebak angka dari 1-100\")\n",
        "    benar = False\n",
        "    percobaan = 0  # Inisialisasi counter untuk menghitung jumlah tebakan\n",
        "    while not benar:\n",
        "        tebak_user = int(input(\"Masukkan angka tebakan anda = \"))\n",
        "        percobaan += 1  # Tambah 1 setiap kali user menebak\n",
        "        if tebak_user == nomor_acak:\n",
        "            print(f\"Tebakan anda benar! Anda menebak dalam {percobaan} percobaan.\")\n",
        "            benar = True\n",
        "        elif tebak_user > nomor_acak:\n",
        "            print(f\"Tebakan anda terlalu tinggi\")\n",
        "        else:\n",
        "            print(f\"Tebakan anda terlalu rendah\")\n",
        "else:\n",
        "    print(\"Oke stop sampai disini\")"
      ],
      "metadata": {
        "collapsed": true,
        "colab": {
          "base_uri": "https://localhost:8080/"
        },
        "id": "jGckyfScBJ6Y",
        "outputId": "4a5b6780-21ef-4df6-982e-d406019d9b3c"
      },
      "execution_count": 5,
      "outputs": [
        {
          "output_type": "stream",
          "name": "stdout",
          "text": [
            "*******************\n",
            "****TEBAK ANGKA****\n",
            "*******************\n",
            "Masukkan nama anda Louise\n",
            "Hallo Louise\n",
            "Apakah anda siap bermain tebak angka? (y/n) = y\n",
            "Oke kita mulai bermain tebak angka dari 1-100\n",
            "Masukkan angka tebakan anda = 25\n",
            "Tebakan anda terlalu rendah\n",
            "Masukkan angka tebakan anda = 60\n",
            "Tebakan anda terlalu tinggi\n",
            "Masukkan angka tebakan anda = 50\n",
            "Tebakan anda terlalu tinggi\n",
            "Masukkan angka tebakan anda = 30\n",
            "Tebakan anda terlalu rendah\n",
            "Masukkan angka tebakan anda = 32\n",
            "Tebakan anda terlalu rendah\n",
            "Masukkan angka tebakan anda = 35\n",
            "Tebakan anda terlalu tinggi\n",
            "Masukkan angka tebakan anda = 34\n",
            "Tebakan anda benar! Anda menebak dalam 7 percobaan.\n"
          ]
        }
      ]
    }
  ]
}