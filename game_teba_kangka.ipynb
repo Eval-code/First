{
  "nbformat": 4,
  "nbformat_minor": 0,
  "metadata": {
    "colab": {
      "provenance": [],
      "authorship_tag": "ABX9TyMteHh//mcEg//B6tzzf2Gk",
      "include_colab_link": true
    },
    "kernelspec": {
      "name": "python3",
      "display_name": "Python 3"
    },
    "language_info": {
      "name": "python"
    }
  },
  "cells": [
    {
      "cell_type": "markdown",
      "metadata": {
        "id": "view-in-github",
        "colab_type": "text"
      },
      "source": [
        "<a href=\"https://colab.research.google.com/github/Eval-code/First/blob/main/game_teba_kangka.ipynb\" target=\"_parent\"><img src=\"https://colab.research.google.com/assets/colab-badge.svg\" alt=\"Open In Colab\"/></a>"
      ]
    },
    {
      "cell_type": "code",
      "source": [
        "import random\n",
        "\n",
        "nomor_acak = random.randint(1, 100)\n",
        "nama_game = \"TEBAK ANGKA\"\n",
        "print(\"*******************\")\n",
        "print(f'''****{nama_game}****''')\n",
        "print(\"*******************\")\n",
        "nama_user = input(\"Masukkan nama anda \")\n",
        "print(f'''Hallo {nama_user}''')\n",
        "jawaban_user = input(\"Apakah anda siap bermain tebak angka? (y/n) = \")\n",
        "\n",
        "if jawaban_user == \"y\":\n",
        "    print(\"Oke kita mulai bermain tebak angka dari 1-100\")\n",
        "    benar = False\n",
        "    percobaan = 0  # Inisialisasi counter untuk menghitung jumlah tebakan\n",
        "    while not benar:\n",
        "        tebak_user = int(input(\"Masukkan angka tebakan anda = \"))\n",
        "        percobaan += 1  # Tambah 1 setiap kali user menebak\n",
        "        if tebak_user == nomor_acak:\n",
        "            print(f\"{BIRU}Tebakan anda benar! Anda menebak dalam {percobaan} percobaan.\")\n",
        "            benar = True\n",
        "        elif tebak_user > nomor_acak:\n",
        "            print(f\"{HIGAU}Tebakan anda terlalu tinggi{RESET}\")\n",
        "        else:\n",
        "            print(f\"{MERAH}Tebakan anda terlalu rendah{RESET}\")\n",
        "else:\n",
        "    print(\"Oke stop sampai disini\")"
      ],
      "metadata": {
        "collapsed": true,
        "colab": {
          "base_uri": "https://localhost:8080/"
        },
        "id": "jGckyfScBJ6Y",
        "outputId": "b582fea6-72e2-4596-c469-e6c690bf8f3e"
      },
      "execution_count": null,
      "outputs": [
        {
          "output_type": "stream",
          "name": "stdout",
          "text": [
            "*******************\n",
            "****TEBAK ANGKA****\n",
            "*******************\n",
            "Masukkan nama anda EVAL\n",
            "Hallo EVAL\n",
            "Apakah anda siap bermain tebak angka? (y/n) = y\n",
            "Oke kita mulai bermain tebak angka dari 1-100\n",
            "Masukkan angka tebakan anda = 10\n",
            "\u001b[91mTebakan anda terlalu rendah\u001b[0m\n",
            "Masukkan angka tebakan anda = 12\n",
            "\u001b[91mTebakan anda terlalu rendah\u001b[0m\n",
            "Masukkan angka tebakan anda = 50\n",
            "\u001b[91mTebakan anda terlalu rendah\u001b[0m\n",
            "Masukkan angka tebakan anda = 70\n",
            "\u001b[91mTebakan anda terlalu rendah\u001b[0m\n",
            "Masukkan angka tebakan anda = 85\n",
            "\u001b[91mTebakan anda terlalu rendah\u001b[0m\n",
            "Masukkan angka tebakan anda = 87\n",
            "\u001b[91mTebakan anda terlalu rendah\u001b[0m\n",
            "Masukkan angka tebakan anda = 90\n",
            "\u001b[91mTebakan anda terlalu rendah\u001b[0m\n",
            "Masukkan angka tebakan anda = 96\n",
            "\u001b[91mTebakan anda terlalu rendah\u001b[0m\n",
            "Masukkan angka tebakan anda = 97\n",
            "\u001b[91mTebakan anda terlalu rendah\u001b[0m\n",
            "Masukkan angka tebakan anda = 98\n",
            "\u001b[91mTebakan anda terlalu rendah\u001b[0m\n",
            "Masukkan angka tebakan anda = 99\n",
            "\u001b[94mTebakan anda benar! Anda menebak dalam 11 percobaan.\n"
          ]
        }
      ]
    }
  ]
}